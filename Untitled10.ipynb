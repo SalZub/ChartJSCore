{
  "nbformat": 4,
  "nbformat_minor": 0,
  "metadata": {
    "colab": {
      "name": "Untitled10.ipynb",
      "provenance": [],
      "collapsed_sections": [],
      "authorship_tag": "ABX9TyNcGD8DNMp5Ll+JFSF2iYC/",
      "include_colab_link": true
    },
    "kernelspec": {
      "name": "python3",
      "display_name": "Python 3"
    }
  },
  "cells": [
    {
      "cell_type": "markdown",
      "metadata": {
        "id": "view-in-github",
        "colab_type": "text"
      },
      "source": [
        "<a href=\"https://colab.research.google.com/github/SalZub/ChartJSCore/blob/master/Untitled10.ipynb\" target=\"_parent\"><img src=\"https://colab.research.google.com/assets/colab-badge.svg\" alt=\"Open In Colab\"/></a>"
      ]
    },
    {
      "cell_type": "code",
      "metadata": {
        "id": "am9Nf0QWWbAg",
        "colab_type": "code",
        "colab": {}
      },
      "source": [
        "import pandas as pd\n",
        "import numpy as np\n",
        "import seaborn as sns\n",
        "import matplotlib as plt\n",
        "%matplotlib inline\n",
        "df = pd.read_excel('Data shared with IBA June 2020.xlsx')\n",
        "df.head()\n"
      ],
      "execution_count": 0,
      "outputs": []
    },
    {
      "cell_type": "code",
      "metadata": {
        "id": "KiELXGNNXERD",
        "colab_type": "code",
        "colab": {}
      },
      "source": [
        "#Convert Gender into Category Data type and encode Gender into 0 - Female; 1 - Male\n",
        "df[\"Gender\"] = df[\"Gender\"].astype('category')\n",
        "df[\"Gender\"] = df[\"Gender\"].cat.codes\n",
        "df.rename(columns={'Deviation Yes or No': 'DEVIATION'}, inplace=True)\n",
        "df.rename(columns={'Stay (days)': 'STAY'}, inplace=True)"
      ],
      "execution_count": 0,
      "outputs": []
    },
    {
      "cell_type": "code",
      "metadata": {
        "id": "WrmXQC86XQPO",
        "colab_type": "code",
        "colab": {}
      },
      "source": [
        "import re\n",
        "def eliminate_numeric_values(item):\n",
        "    if isinstance(item, str):\n",
        "        return item if not re.match(r\"^[0-9]+$\", item) else pd.NaT\n",
        "    else:\n",
        "        return pd.NaT\n",
        "df['VISIT REASON'] = df['VISIT REASON'].map(eliminate_numeric_values)\n",
        "df['VISIT REASON'] = df['VISIT REASON'].str.strip()\n",
        "df['VISIT REASON'] = df['VISIT REASON'].replace('.',\" \")\n",
        "df['VISIT REASON'] = df['VISIT REASON'].replace(\"?\",\" \")\n",
        "df['VISIT REASON'] = df['VISIT REASON'].replace(\"??\",\" \")\n",
        "df['VISIT REASON'] = df['VISIT REASON'].replace(\"???\",\" \")\n",
        "df['VISIT REASON'] = df['VISIT REASON'].replace(\"????\",\" \")\n",
        "df['VISIT REASON'] = df['VISIT REASON'].replace(\"/\",\" \")\n",
        "df['VISIT REASON'] = df['VISIT REASON'].replace(\"[^A-Za-z\\s]+\",\" \")\n",
        "#This will do a basic clean up to manage spaces\n",
        "df.dropna(axis=0,subset=['VISIT REASON'],inplace=True)"
      ],
      "execution_count": 0,
      "outputs": []
    },
    {
      "cell_type": "code",
      "metadata": {
        "id": "psBI7EQKXx11",
        "colab_type": "code",
        "colab": {}
      },
      "source": [
        "#compiling all weird characters\n",
        "regex = re.compile('[\\.!?]')\n",
        "\n",
        "for i,val in enumerate(df['VISIT REASON']):\n",
        "    new_val = regex.sub('', val)\n",
        "    df[\"VISIT REASON\"].replace({val: new_val}, inplace=True)\n",
        "df[df['VISIT REASON'] == \"?pertusis\"]\n"
      ],
      "execution_count": 0,
      "outputs": []
    },
    {
      "cell_type": "code",
      "metadata": {
        "id": "vKkcj1cwYDO6",
        "colab_type": "code",
        "colab": {}
      },
      "source": [
        "new_df = df.copy()\n",
        "new_df['VISIT REASON 1'], new_df['VISIT REASON 2'], new_df['VISIT REASON 3'] = new_df['VISIT REASON'].str.split(',', 2).str"
      ],
      "execution_count": 0,
      "outputs": []
    },
    {
      "cell_type": "code",
      "metadata": {
        "id": "gDHI2qKzanSu",
        "colab_type": "code",
        "colab": {}
      },
      "source": [
        "new_df.drop(new_df.columns[[0,1,2,3,4,5,6,7,8,9,10,11,12,13,14,15]], inplace = True, axis = 1) \n",
        "new_df.columns"
      ],
      "execution_count": 0,
      "outputs": []
    },
    {
      "cell_type": "code",
      "metadata": {
        "id": "Rfqwa-subbRM",
        "colab_type": "code",
        "colab": {}
      },
      "source": [
        "new_df=new_df.combine_first(pd.Series(new_df.values.ravel('F')).to_frame('allDiseases'))\n",
        "new_df.drop(new_df.columns[[0,1,2]], inplace = True, axis = 1) \n",
        "new_df\n",
        "#new_df is now a table of all diseases\n",
        "#65862"
      ],
      "execution_count": 0,
      "outputs": []
    },
    {
      "cell_type": "code",
      "metadata": {
        "id": "yE1yKTpWdICJ",
        "colab_type": "code",
        "colab": {}
      },
      "source": [
        "# dropping ALL duplicte values \n",
        "new_df=new_df.drop_duplicates(subset =\"allDiseases\",keep = False, inplace = False,ignore_index=True) \n",
        "new_df\n",
        "#2172"
      ],
      "execution_count": 0,
      "outputs": []
    },
    {
      "cell_type": "code",
      "metadata": {
        "id": "S94IbipwcFo_",
        "colab_type": "code",
        "colab": {}
      },
      "source": [
        "#correct spelling errors \n",
        "import sys  \n",
        "!{sys.executable} -m pip install textblob "
      ],
      "execution_count": 0,
      "outputs": []
    },
    {
      "cell_type": "code",
      "metadata": {
        "id": "Ob5it95FmkdI",
        "colab_type": "code",
        "colab": {}
      },
      "source": [
        "new_df.loc[:,('allDiseases')] = new_df.loc[:,('allDiseases')].str.upper() \n",
        "new_df.loc[:,('allDiseases')] = new_df.loc[:,('allDiseases')].str.strip() \n",
        "new_df=new_df.sort_values(by=['allDiseases'], ascending = True)\n",
        "# dropping ALL duplicte values \n",
        "new_df.drop_duplicates(subset =\"allDiseases\",keep = False, inplace = True) \n",
        "new_df\n",
        "#1841"
      ],
      "execution_count": 0,
      "outputs": []
    },
    {
      "cell_type": "code",
      "metadata": {
        "id": "X12HvU-6qOnH",
        "colab_type": "code",
        "colab": {
          "base_uri": "https://localhost:8080/",
          "height": 70
        },
        "outputId": "c534d68d-48e7-441c-a8aa-c16a32d4fc1f"
      },
      "source": [
        "import nltk\n",
        "nltk.download('brown')"
      ],
      "execution_count": 69,
      "outputs": [
        {
          "output_type": "stream",
          "text": [
            "[nltk_data] Downloading package brown to /root/nltk_data...\n",
            "[nltk_data]   Unzipping corpora/brown.zip.\n"
          ],
          "name": "stdout"
        },
        {
          "output_type": "execute_result",
          "data": {
            "text/plain": [
              "True"
            ]
          },
          "metadata": {
            "tags": []
          },
          "execution_count": 69
        }
      ]
    },
    {
      "cell_type": "code",
      "metadata": {
        "id": "JWF8JRT8qM9G",
        "colab_type": "code",
        "colab": {
          "base_uri": "https://localhost:8080/",
          "height": 35
        },
        "outputId": "f2e5910c-f910-4e25-8af7-221f467eb101"
      },
      "source": [
        "from nltk.corpus import brown\n",
        "word_list = brown.words()\n",
        "word_set = set(word_list)\n",
        "\n",
        "# Check if word is in set\n",
        "\"looked\" in word_set  # Returns True\n",
        "\"hurrr\" in word_set  # Returns False"
      ],
      "execution_count": 70,
      "outputs": [
        {
          "output_type": "execute_result",
          "data": {
            "text/plain": [
              "False"
            ]
          },
          "metadata": {
            "tags": []
          },
          "execution_count": 70
        }
      ]
    },
    {
      "cell_type": "code",
      "metadata": {
        "id": "7psUAfoJc_ju",
        "colab_type": "code",
        "colab": {}
      },
      "source": [
        "from textblob import TextBlob\n",
        "newlist = new_df.allDiseases.unique().tolist()\n",
        "i=0\n",
        "while True:\n",
        "    if(i == len(newlist)-1):\n",
        "      break; \n",
        "    else:\n",
        "      if(fuzz.ratio(newlist[i], newlist[i+1])>90):\n",
        "        #check which is correct spelling - kept and the other removed\n",
        "          del newlist[i]\n",
        "          print(newlist[i+1])\n",
        "      i=i+1\n",
        "for j in range(len(newlist)):\n",
        "  print(newlist[j])    "
      ],
      "execution_count": 0,
      "outputs": []
    },
    {
      "cell_type": "code",
      "metadata": {
        "id": "hSa0WkJpjKho",
        "colab_type": "code",
        "colab": {
          "base_uri": "https://localhost:8080/",
          "height": 35
        },
        "outputId": "d88abcd2-933e-4a40-9e7e-278ddf374bd4"
      },
      "source": [
        "!pip install fuzzywuzzy\n",
        "from fuzzywuzzy import fuzz"
      ],
      "execution_count": 95,
      "outputs": [
        {
          "output_type": "stream",
          "text": [
            "\u001b[31mERROR: Operation cancelled by user\u001b[0m\n"
          ],
          "name": "stdout"
        }
      ]
    },
    {
      "cell_type": "code",
      "metadata": {
        "id": "o8FWAEdkeaug",
        "colab_type": "code",
        "colab": {
          "base_uri": "https://localhost:8080/",
          "height": 35
        },
        "outputId": "562a4448-6d88-4d87-b75d-4c37a395a567"
      },
      "source": [
        "len(newlist)"
      ],
      "execution_count": 96,
      "outputs": [
        {
          "output_type": "execute_result",
          "data": {
            "text/plain": [
              "1797"
            ]
          },
          "metadata": {
            "tags": []
          },
          "execution_count": 96
        }
      ]
    },
    {
      "cell_type": "code",
      "metadata": {
        "id": "EUTZDqe8Y01l",
        "colab_type": "code",
        "colab": {}
      },
      "source": [
        "#iterate through all diseases and make a new table for codes\n",
        "#correct spelling errors \n",
        "#merge all columns \n",
        "#sort \n",
        "#pick out unique and code\n",
        "for i in range(len(new_df)):\n",
        "\n",
        "\n"
      ],
      "execution_count": 0,
      "outputs": []
    }
  ]
}